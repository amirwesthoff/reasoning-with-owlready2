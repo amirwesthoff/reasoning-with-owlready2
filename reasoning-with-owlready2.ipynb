{
 "cells": [
  {
   "cell_type": "code",
   "execution_count": null,
   "id": "c7d514da-6014-461e-aead-7b73c7b6a59c",
   "metadata": {},
   "outputs": [],
   "source": [
    "pip install owlready2"
   ]
  },
  {
   "cell_type": "code",
   "execution_count": null,
   "id": "5f71c3cb-9571-449d-945b-9fc52ec94dc9",
   "metadata": {},
   "outputs": [],
   "source": [
    "import owlready2\n",
    "\n",
    "# Load an empty ontology\n",
    "onto = owlready2.get_ontology(\"http://example.org/my_ontology.owl\")\n",
    "\n",
    "with onto:\n",
    "    # Define some classes\n",
    "    class Person(owlready2.Thing):\n",
    "        pass\n",
    "\n",
    "    class Man(Person):\n",
    "        pass\n",
    "\n",
    "    class Woman(Person):\n",
    "        pass\n",
    "\n",
    "    # Define a property\n",
    "    class has_spouse(owlready2.ObjectProperty):\n",
    "        domain = [Person]\n",
    "        range = [Person]\n",
    "\n",
    "    # Add some individuals\n",
    "    john = Man(\"John\")\n",
    "    jane = Woman(\"Jane\")\n",
    "\n",
    "    # Define relations\n",
    "    john.has_spouse = [jane]\n",
    "    jane.has_spouse = [john]\n",
    "\n",
    "# Save the ontology to a file\n",
    "onto.save(file=\"my_ontology.owl\")\n",
    "\n",
    "# Perform reasoning\n",
    "with onto:\n",
    "    # Load the reasoner\n",
    "    owlready2.sync_reasoner()\n",
    "\n",
    "# Check inferred types\n",
    "print(john.is_a)\n",
    "print(jane.is_a)\n",
    "\n",
    "# Check inverse properties\n",
    "print(john.has_spouse)\n",
    "print(jane.has_spouse)\n"
   ]
  }
 ],
 "metadata": {
  "kernelspec": {
   "display_name": "Python 3 (ipykernel)",
   "language": "python",
   "name": "python3"
  },
  "language_info": {
   "codemirror_mode": {
    "name": "ipython",
    "version": 3
   },
   "file_extension": ".py",
   "mimetype": "text/x-python",
   "name": "python",
   "nbconvert_exporter": "python",
   "pygments_lexer": "ipython3",
   "version": "3.10.2"
  }
 },
 "nbformat": 4,
 "nbformat_minor": 5
}
